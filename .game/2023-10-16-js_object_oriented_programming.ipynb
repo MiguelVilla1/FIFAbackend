{
 "cells": [
  {
   "cell_type": "code",
   "execution_count": 4,
   "metadata": {
    "vscode": {
     "languageId": "javascript"
    }
   },
   "outputs": [
    {
     "data": {
      "application/javascript": "\nclass messi{\n    constructor(pac, sho, pas, dri, def, phy){\n\n        this.pac = pac;\n        this.sho = sho;\n        this.pas = pas;\n        this.dri = dri;\n        this.phy = phy;\n    }\n\n}\n\n\nvar pac = \"80\"\nvar sho = \"87\"\nvar pas = \"90\"\nvar dri = \"94\"\nvar def = \"33\"\nvar phy = \"64\"\n\n\n\ndisplay(messi)\n",
      "text/plain": [
       "<IPython.core.display.Javascript object>"
      ]
     },
     "metadata": {},
     "output_type": "display_data"
    }
   ],
   "source": [
    "%%js\n",
    "\n",
    "class messi{\n",
    "    constructor(pac, sho, pas, dri, def, phy){\n",
    "\n",
    "        this.pac = pac;\n",
    "        this.sho = sho;\n",
    "        this.pas = pas;\n",
    "        this.dri = dri;\n",
    "        this.phy = phy;\n",
    "    }\n",
    "\n",
    "}\n",
    "\n",
    "\n",
    "var pac = \"80\"\n",
    "var sho = \"87\"\n",
    "var pas = \"90\"\n",
    "var dri = \"94\"\n",
    "var def = \"33\"\n",
    "var phy = \"64\"\n",
    "\n"
   ]
  }
 ],
 "metadata": {
  "kernelspec": {
   "display_name": "Python 3",
   "language": "python",
   "name": "python3"
  },
  "language_info": {
   "codemirror_mode": {
    "name": "ipython",
    "version": 3
   },
   "file_extension": ".py",
   "mimetype": "text/x-python",
   "name": "python",
   "nbconvert_exporter": "python",
   "pygments_lexer": "ipython3",
   "version": "3.11.4"
  },
  "orig_nbformat": 4
 },
 "nbformat": 4,
 "nbformat_minor": 2
}
