{
 "cells": [
  {
   "cell_type": "code",
   "execution_count": 9,
   "metadata": {
    "vscode": {
     "languageId": "javascript"
    }
   },
   "outputs": [
    {
     "data": {
      "application/javascript": "\nclass Messi {\n    constructor(pac, sho, pas, dri, def, phy) {\n        this.pac = pac;\n        this.sho = sho;\n        this.pas = pas;\n        this.dri = dri;\n        this.def = def; \n        this.phy = phy;\n    }\n}\n\nvar pac = \"80\";\nvar sho = \"87\";\nvar pas = \"90\";\nvar dri = \"94\";\nvar def = \"33\";\nvar phy = \"64\";\n\nconst messiStats = new Messi(pac, sho, pas, dri, def, phy);\n\n// Display Messi's stats\nconsole.log(\"Messi's Stats:\");\nconsole.log(\"Pace (PAC): \" + messiStats.pac);\nconsole.log(\"Shooting (SHO): \" + messiStats.sho);\nconsole.log(\"Passing (PAS): \" + messiStats.pas);\nconsole.log(\"Dribbling (DRI): \" + messiStats.dri);\nconsole.log(\"Defense (DEF): \" + messiStats.def);\nconsole.log(\"Physical (PHY): \" + messiStats.phy);\n\nclass Ronaldo {\n    constructor(pac, sho, pas, dri, def, phy) {\n        this.pac = pac;\n        this.sho = sho;\n        this.pas = pas;\n        this.dri = dri;\n        this.def = def; \n        this.phy = phy;\n    }\n}\n\nvar pac = \"80\";\nvar sho = \"87\";\nvar pas = \"90\";\nvar dri = \"94\";\nvar def = \"33\";\nvar phy = \"64\";\n\nconst ronaldoStats = new Ronaldo(pac, sho, pas, dri, def, phy);\n\n// Display Messi's stats\nconsole.log(\"Ronaldo's Stats:\");\nconsole.log(\"Pace (PAC): \" + ronaldoStats.pac);\nconsole.log(\"Shooting (SHO): \" + ronaldoStats.sho);\nconsole.log(\"Passing (PAS): \" + ronaldoStats.pas);\nconsole.log(\"Dribbling (DRI): \" + ronaldoStats.dri);\nconsole.log(\"Defense (DEF): \" + ronaldoStats.def);\nconsole.log(\"Physical (PHY): \" + ronaldoStats.phy);\n",
      "text/plain": [
       "<IPython.core.display.Javascript object>"
      ]
     },
     "metadata": {},
     "output_type": "display_data"
    }
   ],
   "source": [
    "class Player {\n",
    "    constructor(name, pac, sho, pas, dri, def, phy) {\n",
    "        this.name = name;\n",
    "        this.pac = pac;\n",
    "        this.sho = sho;\n",
    "        this.pas = pas;\n",
    "        this.dri = dri;\n",
    "        this.def = def;\n",
    "        this.phy = phy;\n",
    "    }\n",
    "}\n",
    "\n",
    "// Create an array of player objects\n",
    "const players = [\n",
    "    new Player(\"Messi\", 80, 87, 90, 94, 33, 64),\n",
    "    new Player(\"Ronaldo\", 85, 90, 75, 92, 45, 78),\n",
    "    new Player(\"\")\n",
    "];\n",
    "\n",
    "// Iterate through the array and display the stats for each player\n",
    "for (const player of players) {\n",
    "    console.log(player.name + \"'s Stats:\");\n",
    "    console.log(\"Pace (PAC): \" + player.pac);\n",
    "    console.log(\"Shooting (SHO): \" + player.sho);\n",
    "    console.log(\"Passing (PAS): \" + player.pas);\n",
    "    console.log(\"Dribbling (DRI): \" + player.dri);\n",
    "    console.log(\"Defense (DEF): \" + player.def);\n",
    "    console.log(\"Physical (PHY): \" + player.phy);\n",
    "    console.log(\"\\n\");\n",
    "}\n"
   ]
  }
 ],
 "metadata": {
  "kernelspec": {
   "display_name": "Python 3",
   "language": "python",
   "name": "python3"
  },
  "language_info": {
   "codemirror_mode": {
    "name": "ipython",
    "version": 3
   },
   "file_extension": ".py",
   "mimetype": "text/x-python",
   "name": "python",
   "nbconvert_exporter": "python",
   "pygments_lexer": "ipython3",
   "version": "3.11.4"
  },
  "orig_nbformat": 4
 },
 "nbformat": 4,
 "nbformat_minor": 2
}
