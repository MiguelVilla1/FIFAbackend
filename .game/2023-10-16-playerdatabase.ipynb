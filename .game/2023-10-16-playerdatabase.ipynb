{
 "cells": [
  {
   "cell_type": "code",
   "execution_count": 1,
   "metadata": {
    "vscode": {
     "languageId": "javascript"
    }
   },
   "outputs": [
    {
     "ename": "SyntaxError",
     "evalue": "invalid syntax (3621386039.py, line 1)",
     "output_type": "error",
     "traceback": [
      "\u001b[0;36m  File \u001b[0;32m\"/tmp/ipykernel_31559/3621386039.py\"\u001b[0;36m, line \u001b[0;32m1\u001b[0m\n\u001b[0;31m    class Player {\u001b[0m\n\u001b[0m                 ^\u001b[0m\n\u001b[0;31mSyntaxError\u001b[0m\u001b[0;31m:\u001b[0m invalid syntax\n"
     ]
    }
   ],
   "source": [
    "class Player {\n",
    "    constructor(name, pac, sho, pas, dri, def, phy) {\n",
    "        this.name = name;\n",
    "        this.pac = pac;\n",
    "        this.sho = sho;\n",
    "        this.pas = pas;\n",
    "        this.dri = dri;\n",
    "        this.def = def;\n",
    "        this.phy = phy;\n",
    "    }\n",
    "}\n",
    "\n",
    "// Create an array of player objects\n",
    "const players = [\n",
    "    new Player(\"Lionel Messi\", 80, 87, 90, 94, 33, 64),\n",
    "    new Player(\"Cristiano Ronaldo\", 85, 90, 75, 92, 45, 78),\n",
    "    new Player(\"Erling Haaland\",  )\n",
    "    \n",
    "];\n",
    "\n",
    "// display stats of each player\n",
    "for (const player of players) {\n",
    "    console.log(player.name + \"'s Stats:\");\n",
    "    console.log(\"Pace (PAC): \" + player.pac);\n",
    "    console.log(\"Shooting (SHO): \" + player.sho);\n",
    "    console.log(\"Passing (PAS): \" + player.pas);\n",
    "    console.log(\"Dribbling (DRI): \" + player.dri);\n",
    "    console.log(\"Defense (DEF): \" + player.def);\n",
    "    console.log(\"Physical (PHY): \" + player.phy);\n",
    "    console.log(\"\\n\");\n",
    "}\n"
   ]
  }
 ],
 "metadata": {
  "kernelspec": {
   "display_name": "Python 3",
   "language": "python",
   "name": "python3"
  },
  "language_info": {
   "codemirror_mode": {
    "name": "ipython",
    "version": 3
   },
   "file_extension": ".py",
   "mimetype": "text/x-python",
   "name": "python",
   "nbconvert_exporter": "python",
   "pygments_lexer": "ipython3",
   "version": "3.10.12"
  },
  "orig_nbformat": 4
 },
 "nbformat": 4,
 "nbformat_minor": 2
}
