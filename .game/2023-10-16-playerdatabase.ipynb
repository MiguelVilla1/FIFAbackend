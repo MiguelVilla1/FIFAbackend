{
 "cells": [
  {
   "cell_type": "code",
   "execution_count": null,
   "metadata": {},
   "outputs": [
    {
     "name": "stdout",
     "output_type": "stream",
     "text": [
      "YOU PACKED:\n",
      "Name: Kylian Mbappe\n",
      "Position (POS): Striker\n",
      "Overall (OVR): 91\n",
      "Pace (PAC): 97\n",
      "Shooting (SHO): 90\n",
      "Passing (PAS): 80\n",
      "Dribbling (DRI): 92\n",
      "Defense (DEF): 36\n",
      "Physical (PHY): 78\n"
     ]
    }
   ],
   "source": [
    "import random\n",
    "\n",
    "# Define position values\n",
    "CF = \"Center Forward\"\n",
    "ST = \"Striker\"\n",
    "RB = \"Right Back\"\n",
    "CM = \"Central Midfield\"\n",
    "LW = \"Left Wing\"\n",
    "CDM = \"Central Defensive Midfield\"\n",
    "CD = \"Center Back\"\n",
    "RM = \"Right Midfield\"\n",
    "LM = \"Left Midfield\"\n",
    "LD = \"Left Back\"\n",
    "CAM = \"Central Attacking Midfield\"\n",
    "RW = \"Right Wing\"\n",
    "LWB = \"Left Wing Back\"\n",
    "RWB = \"Right Wing Back\"\n",
    "\n",
    "class Player:\n",
    "    def __init__(self, name, pos, ovr, pac, sho, pas, dri, defe, phy):\n",
    "        self.name = name\n",
    "        self.pos = pos\n",
    "        self.ovr = ovr\n",
    "        self.pac = pac\n",
    "        self.sho = sho\n",
    "        self.pas = pas\n",
    "        self.dri = dri\n",
    "        self.defe = defe\n",
    "        self.phy = phy\n",
    "\n",
    "# Create a list of player objects\n",
    "players = [\n",
    "    Player(\"Lionel Messi\", CF, 90, 80, 87, 90, 94, 33, 64),\n",
    "    Player(\"Cristiano Ronaldo\", ST, 86, 85, 90, 75, 92, 45, 78),\n",
    "    Player(\"Erling Haaland\", ST, 91, 89, 93, 66, 80, 24, 88),\n",
    "    Player(\"Kylian Mbappe\", ST, 91, 97, 90, 80, 92, 36, 78),\n",
    "    Player(\"Sergi Roberto\", RB, 80, 74, 63, 79, 77, 75, 73),\n",
    "    Player(\"Ryota Morioka\", CM, 72, 42, 69, 74, 69, 71, 68),\n",
    "    Player(\"Kevin De Bruyne\", CM, 91, 72, 88, 94, 87, 65, 78),\n",
    "    Player(\"Neymar Jr\", LW, 89, 86, 83, 85, 93, 37, 61),\n",
    "    Player(\"Sandro Tonali\", CDM, 86, 84, 74, 81, 81, 82, 84),\n",
    "    Player(\"Qiu Zhongyi\", CD, 48, 56, 25, 27, 34, 51, 52 ),\n",
    "    Player(\"Marcus Rashford\", LW, 85, 90, 86, 78, 84, 42, 74),\n",
    "    Player(\"Vinicius Jr\", LW, 89, 95, 82, 78, 90, 29, 68),\n",
    "    Player(\"Bruno Fernandes\", CAM, 88, 71, 86, 90, 83, 69, 77),\n",
    "    Player(\"Heung Min Son\", LW, 87, 87, 88, 80, 84, 42, 70),\n",
    "    Player(\"Kaoru Mitoma\", LM, 80, 84, 73, 74, 85, 57, 65),\n",
    "    Player(\"Eberechi Eze\", CAM, 79, 77, 76, 77, 82, 49, 68),\n",
    "\n",
    "    \n",
    "]\n",
    "\n",
    "# Display stats of each player\n",
    "random_player = random.choice(players)\n",
    "print(f\"YOU PACKED:\")\n",
    "print(f\"Name: {random_player.name}\")\n",
    "print(f\"Position (POS): {random_player.pos}\")\n",
    "print(f\"Overall (OVR): {random_player.ovr}\")\n",
    "print(f\"Pace (PAC): {random_player.pac}\")\n",
    "print(f\"Shooting (SHO): {random_player.sho}\")\n",
    "print(f\"Passing (PAS): {random_player.pas}\")\n",
    "print(f\"Dribbling (DRI): {random_player.dri}\")\n",
    "print(f\"Defense (DEF): {random_player.defe}\")\n",
    "print(f\"Physical (PHY): {random_player.phy}\")\n"
   ]
  },
  {
   "cell_type": "code",
   "execution_count": null,
   "metadata": {},
   "outputs": [],
   "source": []
  }
 ],
 "metadata": {
  "kernelspec": {
   "display_name": "Python 3",
   "language": "python",
   "name": "python3"
  },
  "language_info": {
   "codemirror_mode": {
    "name": "ipython",
    "version": 3
   },
   "file_extension": ".py",
   "mimetype": "text/x-python",
   "name": "python",
   "nbconvert_exporter": "python",
   "pygments_lexer": "ipython3",
   "version": "3.10.12"
  },
  "orig_nbformat": 4
 },
 "nbformat": 4,
 "nbformat_minor": 2
}
