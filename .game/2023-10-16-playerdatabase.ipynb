{
 "cells": [
  {
   "cell_type": "code",
   "execution_count": 2,
   "metadata": {
    "vscode": {
     "languageId": "javascript"
    }
   },
   "outputs": [
    {
     "ename": "SyntaxError",
     "evalue": "unterminated string literal (detected at line 26) (3961415010.py, line 26)",
     "output_type": "error",
     "traceback": [
      "\u001b[0;36m  File \u001b[0;32m\"/tmp/ipykernel_53127/3961415010.py\"\u001b[0;36m, line \u001b[0;32m26\u001b[0m\n\u001b[0;31m    console.log(`${player.name}'s Stats:`);\u001b[0m\n\u001b[0m                               ^\u001b[0m\n\u001b[0;31mSyntaxError\u001b[0m\u001b[0;31m:\u001b[0m unterminated string literal (detected at line 26)\n"
     ]
    }
   ],
   "source": [
    "class Player {\n",
    "    constructor(name, ovr, pac, sho, pas, dri, def, phy) {\n",
    "        this.name = name;\n",
    "        this.ovr = ovr;\n",
    "        this.pac = pac;\n",
    "        this.sho = sho;\n",
    "        this.pas = pas;\n",
    "        this.dri = dri;\n",
    "        this.def = def;\n",
    "        this.phy = phy;\n",
    "    }\n",
    "}\n",
    "\n",
    "// Create an array of player objects\n",
    "const players = [\n",
    "    new Player(\"Lionel Messi\", 90, 80, 87, 90, 94, 33, 64),\n",
    "    new Player(\"Cristiano Ronaldo\", 86, 85, 90, 75, 92, 45, 78),\n",
    "    new Player(\"Erling Haaland\", 91, 89, 93, 80, 45, 88),\n",
    "    new Player(\"Kylian Mbappe\", 91, 97, 90, 80, 92, 36, 78),\n",
    "    new Player(\"Sergi Roberto\", 80, 74, 63, 79, 77, 75, 73),\n",
    "    new Player(\"Ryota Morioka\", 72, 42, 69, 74, 69, 71, 68),\n",
    "];\n",
    "\n",
    "// Display stats of each player\n",
    "for (const player of players) {\n",
    "    console.log(`${player.name}'s Stats:`);\n",
    "    console.log(`Overall (OVR): ${player.ovr}`);\n",
    "    console.log(`Pace (PAC): ${player.pac}`);\n",
    "    console.log(`Shooting (SHO): ${player.sho}`);\n",
    "    console.log(`Passing (PAS): ${player.pas}`);\n",
    "    console.log(`Dribbling (DRI): ${player.dri}`);\n",
    "    console.log(`Defense (DEF): ${player.def}`);\n",
    "    console.log(`Physical (PHY): ${player.phy}`);\n",
    "    console.log(\"\\n\");\n",
    "}\n"
   ]
  }
 ],
 "metadata": {
  "kernelspec": {
   "display_name": "Python 3",
   "language": "python",
   "name": "python3"
  },
  "language_info": {
   "codemirror_mode": {
    "name": "ipython",
    "version": 3
   },
   "file_extension": ".py",
   "mimetype": "text/x-python",
   "name": "python",
   "nbconvert_exporter": "python",
   "pygments_lexer": "ipython3",
   "version": "3.10.12"
  },
  "orig_nbformat": 4
 },
 "nbformat": 4,
 "nbformat_minor": 2
}
